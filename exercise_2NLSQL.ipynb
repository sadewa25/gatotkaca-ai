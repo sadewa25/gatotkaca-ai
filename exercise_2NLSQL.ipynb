{
 "cells": [
  {
   "cell_type": "code",
   "execution_count": null,
   "id": "03681beb-674f-4930-8441-1dca1eb5c83a",
   "metadata": {},
   "outputs": [],
   "source": []
  },
  {
   "cell_type": "code",
   "execution_count": 1,
   "id": "1bd90f1e-8d84-43a5-bba0-3e69bd5e9ee2",
   "metadata": {
    "tags": []
   },
   "outputs": [],
   "source": [
    "import os\n",
    "import openai"
   ]
  },
  {
   "cell_type": "code",
   "execution_count": 2,
   "id": "0a214bfa-14e6-4a7a-a9a4-a4ddaf9e8b14",
   "metadata": {
    "tags": []
   },
   "outputs": [],
   "source": [
    "os.environ[\"OPENAI_API_KEY\"] = \"sk-your api\"\n",
    "openai.api_key = os.environ[\"OPENAI_API_KEY\"]"
   ]
  },
  {
   "cell_type": "code",
   "execution_count": 3,
   "id": "db462c97-abbb-4cfb-a042-bca39da55066",
   "metadata": {
    "tags": []
   },
   "outputs": [],
   "source": [
    "from IPython.display import Markdown, display"
   ]
  },
  {
   "cell_type": "code",
   "execution_count": 4,
   "id": "07abd77d-7bc0-49f3-91cd-5df1fd3b237f",
   "metadata": {
    "tags": []
   },
   "outputs": [],
   "source": [
    "from sqlalchemy import (\n",
    "    create_engine,\n",
    "    MetaData,\n",
    "    Table,\n",
    "    Column,\n",
    "    String,\n",
    "    Integer,\n",
    "    select,\n",
    ")\n"
   ]
  },
  {
   "cell_type": "code",
   "execution_count": 5,
   "id": "0b60388c-f876-41fa-88ec-9a38ec93dcb8",
   "metadata": {
    "tags": []
   },
   "outputs": [],
   "source": [
    "engine = create_engine(\"sqlite:///:memory:\")\n",
    "metadata_obj = MetaData()"
   ]
  },
  {
   "cell_type": "code",
   "execution_count": 6,
   "id": "73d29452-9f9f-4c96-9066-3824588eb268",
   "metadata": {
    "tags": []
   },
   "outputs": [],
   "source": [
    "# create city SQL table\n",
    "table_name = \"city_stats\"\n",
    "city_stats_table = Table(\n",
    "    table_name,\n",
    "    metadata_obj,\n",
    "    Column(\"city_name\", String(16), primary_key=True),\n",
    "    Column(\"population\", Integer),\n",
    "    Column(\"country\", String(16), nullable=False),\n",
    ")\n",
    "metadata_obj.create_all(engine)"
   ]
  },
  {
   "cell_type": "code",
   "execution_count": 7,
   "id": "58cd626f-846b-4eae-8c3d-dcc6d9838f69",
   "metadata": {
    "tags": []
   },
   "outputs": [],
   "source": [
    "from llama_index import SQLDatabase, ServiceContext\n",
    "from llama_index.llms import OpenAI"
   ]
  },
  {
   "cell_type": "code",
   "execution_count": 8,
   "id": "3d8ef72c-3ce1-4bbc-8609-ddb21ebfd7d2",
   "metadata": {
    "tags": []
   },
   "outputs": [],
   "source": [
    "llm = OpenAI(temperature=0.1, model=\"gpt-3.5-turbo\")\n",
    "service_context = ServiceContext.from_defaults(llm=llm)"
   ]
  },
  {
   "cell_type": "code",
   "execution_count": 9,
   "id": "bc4d1014-4c47-4afe-b139-e9be013a71cb",
   "metadata": {
    "tags": []
   },
   "outputs": [],
   "source": [
    "sql_database = SQLDatabase(engine, include_tables=[\"city_stats\"])"
   ]
  },
  {
   "cell_type": "code",
   "execution_count": 10,
   "id": "4d372df8-1a5c-4000-8e5b-c8785dfc3fb8",
   "metadata": {
    "tags": []
   },
   "outputs": [],
   "source": [
    "sql_database = SQLDatabase(engine, include_tables=[\"city_stats\"])\n",
    "from sqlalchemy import insert\n",
    "\n",
    "rows = [\n",
    "    {\"city_name\": \"Toronto\", \"population\": 2930000, \"country\": \"Canada\"},\n",
    "    {\"city_name\": \"Tokyo\", \"population\": 13960000, \"country\": \"Japan\"},\n",
    "    {\"city_name\": \"Chicago\",\"population\": 2679000,\"country\": \"United States\",},\n",
    "    {\"city_name\": \"Seoul\", \"population\": 9776000, \"country\": \"South Korea\"},\n",
    "    {\"city_name\": \"Abuja\", \"population\": 8776000, \"country\": \"Nigeria\"}\n",
    "]\n",
    "for row in rows:\n",
    "    stmt = insert(city_stats_table).values(**row)\n",
    "    with engine.begin() as connection:\n",
    "        cursor = connection.execute(stmt)"
   ]
  },
  {
   "cell_type": "code",
   "execution_count": 11,
   "id": "9e59377b-66f4-4f5c-a6aa-e50c7d0c8256",
   "metadata": {
    "tags": []
   },
   "outputs": [
    {
     "name": "stdout",
     "output_type": "stream",
     "text": [
      "[('Toronto', 2930000, 'Canada'), ('Tokyo', 13960000, 'Japan'), ('Chicago', 2679000, 'United States'), ('Seoul', 9776000, 'South Korea'), ('Abuja', 8776000, 'Nigeria')]\n"
     ]
    }
   ],
   "source": [
    "stmt = select(\n",
    "    city_stats_table.c.city_name,\n",
    "    city_stats_table.c.population,\n",
    "    city_stats_table.c.country,\n",
    ").select_from(city_stats_table)\n",
    "\n",
    "with engine.connect() as connection:\n",
    "    results = connection.execute(stmt).fetchall()\n",
    "    print(results)"
   ]
  },
  {
   "cell_type": "code",
   "execution_count": 12,
   "id": "5affd241-56cc-4679-8b89-13882fcfadc0",
   "metadata": {
    "tags": []
   },
   "outputs": [
    {
     "name": "stdout",
     "output_type": "stream",
     "text": [
      "('Abuja',)\n",
      "('Chicago',)\n",
      "('Seoul',)\n",
      "('Tokyo',)\n",
      "('Toronto',)\n"
     ]
    }
   ],
   "source": [
    "from sqlalchemy import text\n",
    "\n",
    "with engine.connect() as con:\n",
    "    rows = con.execute(text(\"SELECT city_name from city_stats\"))\n",
    "    for row in rows:\n",
    "        print(row)"
   ]
  },
  {
   "cell_type": "code",
   "execution_count": 13,
   "id": "22e25c0b-b1ad-4353-b6a5-572677f7f9e9",
   "metadata": {
    "tags": []
   },
   "outputs": [
    {
     "name": "stdout",
     "output_type": "stream",
     "text": [
      "('Abuja',)\n"
     ]
    }
   ],
   "source": [
    "from sqlalchemy import text\n",
    "\n",
    "with engine.connect() as con:\n",
    "    rows = con.execute(text(\"SELECT city_name from city_stats where population = 8776000\"))\n",
    "    for row in rows:\n",
    "        print(row)"
   ]
  },
  {
   "cell_type": "code",
   "execution_count": 14,
   "id": "e6b80b1b-5c64-49d6-9e25-9134723ff7ac",
   "metadata": {
    "tags": []
   },
   "outputs": [],
   "source": [
    "from llama_index.indices.struct_store.sql_query import NLSQLTableQueryEngine\n",
    "\n",
    "query_engine = NLSQLTableQueryEngine(\n",
    "    sql_database=sql_database,\n",
    "    tables=[\"city_stats\"],\n",
    ")\n"
   ]
  },
  {
   "cell_type": "code",
   "execution_count": 15,
   "id": "c5d2d7e3-6442-4ece-bf67-d2163bbf50a2",
   "metadata": {
    "tags": []
   },
   "outputs": [],
   "source": [
    "query_str = \"Which city has the highest population?\"\n",
    "response = query_engine.query(query_str)"
   ]
  },
  {
   "cell_type": "code",
   "execution_count": 16,
   "id": "8229622c-c9e7-4a1c-bd78-ab749aa46cd6",
   "metadata": {
    "tags": []
   },
   "outputs": [
    {
     "data": {
      "text/plain": [
       "Response(response='The city with the highest population is Tokyo.', source_nodes=[NodeWithScore(node=TextNode(id_='9e118422-a378-4767-92de-b17720326498', embedding=None, metadata={}, excluded_embed_metadata_keys=[], excluded_llm_metadata_keys=[], relationships={}, text=\"[('Tokyo',)]\", start_char_idx=None, end_char_idx=None, text_template='{metadata_str}\\n\\n{content}', metadata_template='{key}: {value}', metadata_seperator='\\n'), score=None)], metadata={'9e118422-a378-4767-92de-b17720326498': {}, 'sql_query': 'SELECT city_name FROM city_stats ORDER BY population DESC LIMIT 1;', 'result': [('Tokyo',)], 'col_keys': ['city_name']})"
      ]
     },
     "execution_count": 16,
     "metadata": {},
     "output_type": "execute_result"
    }
   ],
   "source": [
    "response"
   ]
  },
  {
   "cell_type": "code",
   "execution_count": 19,
   "id": "e9f121c5-df5d-4b23-8c6b-22f2bc523a43",
   "metadata": {
    "tags": []
   },
   "outputs": [],
   "source": [
    "response = query_engine.query(\"What is the population of the city with highest population\")"
   ]
  },
  {
   "cell_type": "code",
   "execution_count": 23,
   "id": "9d7fac2e-0a4d-42c0-9984-70d57f017dcb",
   "metadata": {
    "tags": []
   },
   "outputs": [
    {
     "data": {
      "text/plain": [
       "Response(response='The population of the city with the highest population is 13,960,000.', source_nodes=[NodeWithScore(node=TextNode(id_='724b6543-e5f9-436a-a1a1-255f1d7f149b', embedding=None, metadata={}, excluded_embed_metadata_keys=[], excluded_llm_metadata_keys=[], relationships={}, hash='c292764db740ed4d521892eb71017fb572fea01f5919645774986cb6b013d47b', text='[(13960000,)]', start_char_idx=None, end_char_idx=None, text_template='{metadata_str}\\n\\n{content}', metadata_template='{key}: {value}', metadata_seperator='\\n'), score=None)], metadata={'724b6543-e5f9-436a-a1a1-255f1d7f149b': {}, 'sql_query': 'SELECT population\\nFROM city_stats\\nORDER BY population DESC\\nLIMIT 1;', 'result': [(13960000,)], 'col_keys': ['population']})"
      ]
     },
     "execution_count": 23,
     "metadata": {},
     "output_type": "execute_result"
    }
   ],
   "source": [
    "response"
   ]
  },
  {
   "cell_type": "code",
   "execution_count": 17,
   "id": "cafa724e-4460-4aea-8b64-8befa94d883b",
   "metadata": {
    "tags": []
   },
   "outputs": [],
   "source": [
    "response = query_engine.query(\"Return the top 3Return the top 5 cities (along with their populations) with the highest population cities (along with their populations) with the highest population\")"
   ]
  },
  {
   "cell_type": "code",
   "execution_count": 18,
   "id": "0633c973-a0b1-471b-b63a-440e91370794",
   "metadata": {
    "tags": []
   },
   "outputs": [
    {
     "data": {
      "text/plain": [
       "Response(response='The top 5 cities with the highest population are Tokyo with a population of 13,960,000, Seoul with a population of 9,776,000, Abuja with a population of 8,776,000, Toronto with a population of 2,930,000, and Chicago with a population of 2,679,000.', source_nodes=[NodeWithScore(node=TextNode(id_='54dad1f5-b02a-427e-8bbc-709f8f584ccb', embedding=None, metadata={}, excluded_embed_metadata_keys=[], excluded_llm_metadata_keys=[], relationships={}, text=\"[('Tokyo', 13960000), ('Seoul', 9776000), ('Abuja', 8776000), ('Toronto', 2930000), ('Chicago', 2679000)]\", start_char_idx=None, end_char_idx=None, text_template='{metadata_str}\\n\\n{content}', metadata_template='{key}: {value}', metadata_seperator='\\n'), score=None)], metadata={'54dad1f5-b02a-427e-8bbc-709f8f584ccb': {}, 'sql_query': 'SELECT city_name, population\\nFROM city_stats\\nORDER BY population DESC\\nLIMIT 5;', 'result': [('Tokyo', 13960000), ('Seoul', 9776000), ('Abuja', 8776000), ('Toronto', 2930000), ('Chicago', 2679000)], 'col_keys': ['city_name', 'population']})"
      ]
     },
     "execution_count": 18,
     "metadata": {},
     "output_type": "execute_result"
    }
   ],
   "source": [
    "response"
   ]
  },
  {
   "cell_type": "code",
   "execution_count": 43,
   "id": "582ceb39-fbd7-4ea4-b240-df3386275ad6",
   "metadata": {
    "tags": []
   },
   "outputs": [],
   "source": [
    "# create city SQL table\n",
    "table_name = \"state1\"\n",
    "state_table = Table(\n",
    "    table_name,\n",
    "    metadata_obj,\n",
    "    Column(\"State\", String(16), primary_key=True),\n",
    "    Column(\"population\", Integer),\n",
    "    Column(\"Capital\", String(16), nullable=False),\n",
    ")\n",
    "metadata_obj.create_all(engine)"
   ]
  },
  {
   "cell_type": "code",
   "execution_count": 44,
   "id": "ffbb53d3-5d7b-4eba-894f-e62066d386e8",
   "metadata": {
    "tags": []
   },
   "outputs": [],
   "source": [
    "sql_database = SQLDatabase(engine, include_tables=[\"state1\",\"city_stats\"])"
   ]
  },
  {
   "cell_type": "code",
   "execution_count": 45,
   "id": "f19b8405-16f1-4c6b-9009-dd1c316855f0",
   "metadata": {
    "tags": []
   },
   "outputs": [],
   "source": [
    "\n",
    "from sqlalchemy import insert\n",
    "\n",
    "rows = [\n",
    "    {\"State\": \"Jigawa\", \"population\": 2930000, \"Capital\": \"Dutse\"},\n",
    "    {\"State\": \"Borno\", \"population\": 13960000, \"Capital\": \"Maiduguri\"},\n",
    "    {\"State\": \"Yobe\",\"population\": 2679000,\"Capital\": \"Damaturu\",},\n",
    "    {\"State\": \"Zamfara\", \"population\": 9776000, \"Capital\": \"Gusau\"},\n",
    "    {\"State\": \"Lagos\", \"population\": 8776000, \"Capital\": \"Ikeja\"}\n",
    "]\n",
    "for row in rows:\n",
    "    stmt = insert(state_table).values(**row)\n",
    "    with engine.begin() as connection:\n",
    "        cursor = connection.execute(stmt)"
   ]
  },
  {
   "cell_type": "code",
   "execution_count": 47,
   "id": "af12ad92-96c4-4b85-9e5d-297cca52ef83",
   "metadata": {
    "tags": []
   },
   "outputs": [
    {
     "name": "stdout",
     "output_type": "stream",
     "text": [
      "('Borno',)\n",
      "('Jigawa',)\n",
      "('Lagos',)\n",
      "('Yobe',)\n",
      "('Zamfara',)\n"
     ]
    }
   ],
   "source": [
    "from sqlalchemy import text\n",
    "\n",
    "with engine.connect() as con:\n",
    "    rows = con.execute(text(\"SELECT State from state1\"))\n",
    "    for row in rows:\n",
    "        print(row)"
   ]
  },
  {
   "cell_type": "code",
   "execution_count": 38,
   "id": "0c212dff-26a9-44a4-b50a-8d3a006ceece",
   "metadata": {
    "tags": []
   },
   "outputs": [],
   "source": [
    "from llama_index.indices.struct_store.sql_query import (\n",
    "    SQLTableRetrieverQueryEngine,\n",
    ")\n",
    "from llama_index.objects import (\n",
    "    SQLTableNodeMapping,\n",
    "    ObjectIndex,\n",
    "    SQLTableSchema,\n",
    ")\n",
    "from llama_index import VectorStoreIndex"
   ]
  },
  {
   "cell_type": "code",
   "execution_count": 50,
   "id": "61da325d-0337-4f7f-879f-28a9e4d30c62",
   "metadata": {
    "tags": []
   },
   "outputs": [],
   "source": [
    "table_node_mapping = SQLTableNodeMapping(sql_database)\n",
    "table_schema_objs = [\n",
    "    (SQLTableSchema(table_name=\"city_stats\")),\n",
    "    (SQLTableSchema(table_name=\"state1\"))\n",
    "]"
   ]
  },
  {
   "cell_type": "code",
   "execution_count": 51,
   "id": "a26cccfe-ba6b-4a62-8736-b833b627201e",
   "metadata": {
    "tags": []
   },
   "outputs": [],
   "source": [
    "obj_index = ObjectIndex.from_objects(\n",
    "    table_schema_objs,\n",
    "    table_node_mapping,\n",
    "    VectorStoreIndex,\n",
    ")"
   ]
  },
  {
   "cell_type": "code",
   "execution_count": 52,
   "id": "18f4f7e3-a2b1-470d-a08a-6b3320cd9c86",
   "metadata": {
    "tags": []
   },
   "outputs": [],
   "source": [
    "query_engine = SQLTableRetrieverQueryEngine(\n",
    "    sql_database, obj_index.as_retriever(similarity_top_k=1)\n",
    ")"
   ]
  },
  {
   "cell_type": "code",
   "execution_count": 57,
   "id": "9af0624f-4a12-4460-b1bf-26d093fd07f2",
   "metadata": {
    "tags": []
   },
   "outputs": [
    {
     "data": {
      "text/markdown": [
       "<b>The city with the highest population is Tokyo.</b>"
      ],
      "text/plain": [
       "<IPython.core.display.Markdown object>"
      ]
     },
     "metadata": {},
     "output_type": "display_data"
    }
   ],
   "source": [
    "response = query_engine.query(\"Which city has the highest population?\")\n",
    "display(Markdown(f\"<b>{response}</b>\"))"
   ]
  },
  {
   "cell_type": "code",
   "execution_count": 58,
   "id": "b3b02579-012e-45a3-bb5b-61035e793333",
   "metadata": {
    "tags": []
   },
   "outputs": [],
   "source": [
    "from llama_index.retrievers import NLSQLRetriever\n",
    "\n",
    "# default retrieval (return_raw=True)\n",
    "nl_sql_retriever = NLSQLRetriever(\n",
    "    sql_database, tables=[\"city_stats\",\"state1\"], return_raw=True\n",
    ")"
   ]
  },
  {
   "cell_type": "code",
   "execution_count": 59,
   "id": "0809bd9f-b077-41df-90bf-121ce56c3b26",
   "metadata": {
    "tags": []
   },
   "outputs": [],
   "source": [
    "results = nl_sql_retriever.retrieve(\n",
    "    \"Return the top 5 cities (along with their populations) with the highest population.\"\n",
    ")"
   ]
  },
  {
   "cell_type": "code",
   "execution_count": 60,
   "id": "48a96897-7cb4-46cc-91f8-ef5eb3d34386",
   "metadata": {
    "tags": []
   },
   "outputs": [
    {
     "data": {
      "text/markdown": [
       "<b>[NodeWithScore(node=TextNode(id_='132a2973-b9dd-46b0-93d1-a7a0a7a71ace', embedding=None, metadata={}, excluded_embed_metadata_keys=[], excluded_llm_metadata_keys=[], relationships={}, hash='9ebeaebf21e2debc09c9e47ef142ecfd7128f292d2e9c99b2e1598d17c013229', text=\"[('Tokyo', 13960000), ('Seoul', 9776000), ('Abuja', 8776000), ('Toronto', 2930000), ('Chicago', 2679000)]\", start_char_idx=None, end_char_idx=None, text_template='{metadata_str}\\n\\n{content}', metadata_template='{key}: {value}', metadata_seperator='\\n'), score=None)]</b>"
      ],
      "text/plain": [
       "<IPython.core.display.Markdown object>"
      ]
     },
     "metadata": {},
     "output_type": "display_data"
    }
   ],
   "source": [
    "display(Markdown(f\"<b>{results}</b>\"))"
   ]
  },
  {
   "cell_type": "code",
   "execution_count": null,
   "id": "c5cf6481-cf5f-470c-97c6-c7bb4bd7aa1e",
   "metadata": {},
   "outputs": [],
   "source": []
  }
 ],
 "metadata": {
  "kernelspec": {
   "display_name": "Python 3 (ipykernel)",
   "language": "python",
   "name": "python3"
  },
  "language_info": {
   "codemirror_mode": {
    "name": "ipython",
    "version": 3
   },
   "file_extension": ".py",
   "mimetype": "text/x-python",
   "name": "python",
   "nbconvert_exporter": "python",
   "pygments_lexer": "ipython3",
   "version": "3.9.18"
  }
 },
 "nbformat": 4,
 "nbformat_minor": 5
}
