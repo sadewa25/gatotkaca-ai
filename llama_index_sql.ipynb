{
 "cells": [
  {
   "cell_type": "code",
   "execution_count": 1,
   "metadata": {},
   "outputs": [],
   "source": [
    "from IPython.display import Markdown, display"
   ]
  },
  {
   "cell_type": "code",
   "execution_count": 2,
   "metadata": {},
   "outputs": [],
   "source": [
    "from sqlalchemy import (\n",
    "    create_engine,\n",
    "    MetaData,\n",
    "    Table,\n",
    "    Column,\n",
    "    String,\n",
    "    Integer,\n",
    "    select,\n",
    ")\n",
    "from sqlalchemy import text"
   ]
  },
  {
   "cell_type": "code",
   "execution_count": 3,
   "metadata": {},
   "outputs": [],
   "source": [
    "# Database connection parameters\n",
    "db_params = {\n",
    "    'dbname': 'db_daily_weather',\n",
    "    'user': 'sadewawicak',\n",
    "    'password': 'postgres',\n",
    "    'host': 'localhost',\n",
    "    'port': '5432'\n",
    "}\n",
    "\n",
    "# Connect to the PostgreSQL database\n",
    "# Create the connection string\n",
    "connection_string = f\"postgresql+psycopg2://{db_params['user']}:{db_params['password']}@{db_params['host']}:{db_params['port']}/{db_params['dbname']}?options=-csearch_path=public\"\n",
    "\n",
    "# Create the SQLAlchemy engine\n",
    "engine = create_engine(connection_string)\n",
    "metadata_obj = MetaData()"
   ]
  },
  {
   "cell_type": "code",
   "execution_count": 4,
   "metadata": {},
   "outputs": [
    {
     "name": "stderr",
     "output_type": "stream",
     "text": [
      "/opt/anaconda3/envs/llms-prompt/lib/python3.12/site-packages/tqdm/auto.py:21: TqdmWarning: IProgress not found. Please update jupyter and ipywidgets. See https://ipywidgets.readthedocs.io/en/stable/user_install.html\n",
      "  from .autonotebook import tqdm as notebook_tqdm\n"
     ]
    }
   ],
   "source": [
    "from llama_index.core import SQLDatabase, ServiceContext\n",
    "from llama_index.llms.ollama import Ollama\n",
    "from llama_index.embeddings.huggingface import HuggingFaceEmbedding\n",
    "from llama_index.core import Settings"
   ]
  },
  {
   "cell_type": "code",
   "execution_count": 5,
   "metadata": {},
   "outputs": [],
   "source": [
    "Settings.llm = Ollama(model=\"mistral\", request_timeout=120.0)\n",
    "Settings.embed_model = HuggingFaceEmbedding(\n",
    "    model_name=\"BAAI/bge-small-en-v1.5\"\n",
    ")"
   ]
  },
  {
   "cell_type": "code",
   "execution_count": 7,
   "metadata": {},
   "outputs": [],
   "source": [
    "# from ollama import ServiceContext, LLM\n",
    "\n",
    "llm = Ollama(model=\"mistral\", request_timeout=60.0)\n",
    "\n",
    "# try to connect and response\n",
    "# response = llm.complete(\"What is the capital of Indonesia?\")\n",
    "# response"
   ]
  },
  {
   "cell_type": "code",
   "execution_count": 8,
   "metadata": {},
   "outputs": [],
   "source": [
    "sql_database = SQLDatabase(engine, include_tables=[\"weather_indonesia\"])"
   ]
  },
  {
   "cell_type": "code",
   "execution_count": 9,
   "metadata": {},
   "outputs": [
    {
     "data": {
      "text/plain": [
       "<sqlalchemy.sql.selectable.Select object at 0x307e1f8c0>"
      ]
     },
     "execution_count": 9,
     "metadata": {},
     "output_type": "execute_result"
    }
   ],
   "source": [
    "stmt = select(\n",
    "    Column('time'),\n",
    "    Column('city'),\n",
    "    Column('sunrise'),\n",
    "    Column('sunset')\n",
    ").select_from(text('weather_indonesia'))\n",
    "stmt"
   ]
  },
  {
   "cell_type": "code",
   "execution_count": 10,
   "metadata": {},
   "outputs": [
    {
     "name": "stdout",
     "output_type": "stream",
     "text": [
      "[('2024-01-01', 'Yogyarakrta', '2024-01-01T05:24', '2024-01-01T17:59'), ('2024-01-02', 'Yogyarakrta', '2024-01-02T05:25', '2024-01-02T17:59'), ('2024-01-03', 'Yogyarakrta', '2024-01-03T05:26', '2024-01-03T18:00'), ('2024-01-04', 'Yogyarakrta', '2024-01-04T05:26', '2024-01-04T18:00'), ('2024-01-05', 'Yogyarakrta', '2024-01-05T05:27', '2024-01-05T18:00'), ('2024-01-06', 'Yogyarakrta', '2024-01-06T05:27', '2024-01-06T18:01'), ('2024-01-07', 'Yogyarakrta', '2024-01-07T05:28', '2024-01-07T18:01'), ('2024-01-08', 'Yogyarakrta', '2024-01-08T05:28', '2024-01-08T18:02'), ('2024-01-09', 'Yogyarakrta', '2024-01-09T05:29', '2024-01-09T18:02'), ('2024-01-10', 'Yogyarakrta', '2024-01-10T05:29', '2024-01-10T18:02'), ('2024-01-11', 'Yogyarakrta', '2024-01-11T05:30', '2024-01-11T18:02'), ('2024-01-12', 'Yogyarakrta', '2024-01-12T05:30', '2024-01-12T18:03'), ('2024-01-13', 'Yogyarakrta', '2024-01-13T05:31', '2024-01-13T18:03'), ('2024-01-14', 'Yogyarakrta', '2024-01-14T05:31', '2024-01-14T18:03'), ('2024-01-15', 'Yogyarakrta', '2024-01-15T05:32', '2024-01-15T18:04'), ('2024-01-16', 'Yogyarakrta', '2024-01-16T05:32', '2024-01-16T18:04'), ('2024-01-17', 'Yogyarakrta', '2024-01-17T05:33', '2024-01-17T18:04'), ('2024-01-18', 'Yogyarakrta', '2024-01-18T05:33', '2024-01-18T18:04'), ('2024-01-19', 'Yogyarakrta', '2024-01-19T05:33', '2024-01-19T18:04'), ('2024-01-20', 'Yogyarakrta', '2024-01-20T05:34', '2024-01-20T18:04'), ('2024-01-21', 'Yogyarakrta', '2024-01-21T05:34', '2024-01-21T18:05'), ('2024-01-22', 'Yogyarakrta', '2024-01-22T05:35', '2024-01-22T18:05'), ('2024-01-23', 'Yogyarakrta', '2024-01-23T05:35', '2024-01-23T18:05'), ('2024-01-24', 'Yogyarakrta', '2024-01-24T05:36', '2024-01-24T18:05'), ('2024-01-25', 'Yogyarakrta', '2024-01-25T05:36', '2024-01-25T18:05'), ('2024-01-26', 'Yogyarakrta', '2024-01-26T05:36', '2024-01-26T18:05'), ('2024-01-27', 'Yogyarakrta', '2024-01-27T05:37', '2024-01-27T18:05'), ('2024-01-28', 'Yogyarakrta', '2024-01-28T05:37', '2024-01-28T18:05'), ('2024-01-29', 'Yogyarakrta', '2024-01-29T05:38', '2024-01-29T18:05'), ('2024-01-30', 'Yogyarakrta', '2024-01-30T05:38', '2024-01-30T18:05'), ('2024-01-31', 'Yogyarakrta', '2024-01-31T05:38', '2024-01-31T18:05'), ('2024-02-01', 'Yogyarakrta', '2024-02-01T05:39', '2024-02-01T18:05'), ('2024-02-02', 'Yogyarakrta', '2024-02-02T05:39', '2024-02-02T18:05'), ('2024-02-03', 'Yogyarakrta', '2024-02-03T05:39', '2024-02-03T18:05'), ('2024-02-04', 'Yogyarakrta', '2024-02-04T05:39', '2024-02-04T18:05'), ('2024-02-05', 'Yogyarakrta', '2024-02-05T05:40', '2024-02-05T18:05'), ('2024-02-06', 'Yogyarakrta', '2024-02-06T05:40', '2024-02-06T18:05'), ('2024-02-07', 'Yogyarakrta', '2024-02-07T05:40', '2024-02-07T18:05'), ('2024-02-08', 'Yogyarakrta', '2024-02-08T05:40', '2024-02-08T18:05'), ('2024-02-09', 'Yogyarakrta', '2024-02-09T05:41', '2024-02-09T18:04'), ('2024-02-10', 'Yogyarakrta', '2024-02-10T05:41', '2024-02-10T18:04'), ('2024-02-11', 'Yogyarakrta', '2024-02-11T05:41', '2024-02-11T18:04'), ('2024-02-12', 'Yogyarakrta', '2024-02-12T05:41', '2024-02-12T18:04'), ('2024-02-13', 'Yogyarakrta', '2024-02-13T05:42', '2024-02-13T18:04'), ('2024-02-14', 'Yogyarakrta', '2024-02-14T05:42', '2024-02-14T18:03'), ('2024-02-15', 'Yogyarakrta', '2024-02-15T05:42', '2024-02-15T18:03'), ('2024-02-16', 'Yogyarakrta', '2024-02-16T05:42', '2024-02-16T18:03'), ('2024-02-17', 'Yogyarakrta', '2024-02-17T05:42', '2024-02-17T18:03'), ('2024-02-18', 'Yogyarakrta', '2024-02-18T05:42', '2024-02-18T18:02'), ('2024-02-19', 'Yogyarakrta', '2024-02-19T05:42', '2024-02-19T18:02'), ('2024-02-20', 'Yogyarakrta', '2024-02-20T05:43', '2024-02-20T18:02'), ('2024-02-21', 'Yogyarakrta', '2024-02-21T05:43', '2024-02-21T18:02'), ('2024-02-22', 'Yogyarakrta', '2024-02-22T05:43', '2024-02-22T18:01'), ('2024-02-23', 'Yogyarakrta', '2024-02-23T05:43', '2024-02-23T18:01'), ('2024-02-24', 'Yogyarakrta', '2024-02-24T05:43', '2024-02-24T18:01'), ('2024-02-25', 'Yogyarakrta', '2024-02-25T05:43', '2024-02-25T18:00'), ('2024-02-26', 'Yogyarakrta', '2024-02-26T05:43', '2024-02-26T18:00'), ('2024-02-27', 'Yogyarakrta', '2024-02-27T05:43', '2024-02-27T18:00'), ('2024-02-28', 'Yogyarakrta', '2024-02-28T05:43', '2024-02-28T17:59'), ('2024-02-29', 'Yogyarakrta', '2024-02-29T05:43', '2024-02-29T17:59'), ('2024-03-01', 'Yogyarakrta', '2024-03-01T05:43', '2024-03-01T17:58'), ('2024-03-02', 'Yogyarakrta', '2024-03-02T05:43', '2024-03-02T17:58'), ('2024-03-03', 'Yogyarakrta', '2024-03-03T05:43', '2024-03-03T17:57'), ('2024-03-04', 'Yogyarakrta', '2024-03-04T05:43', '2024-03-04T17:57'), ('2024-03-05', 'Yogyarakrta', '2024-03-05T05:43', '2024-03-05T17:57'), ('2024-03-06', 'Yogyarakrta', '2024-03-06T05:43', '2024-03-06T17:56'), ('2024-03-07', 'Yogyarakrta', '2024-03-07T05:43', '2024-03-07T17:56'), ('2024-03-08', 'Yogyarakrta', '2024-03-08T05:43', '2024-03-08T17:55'), ('2024-03-09', 'Yogyarakrta', '2024-03-09T05:43', '2024-03-09T17:55'), ('2024-03-10', 'Yogyarakrta', '2024-03-10T05:43', '2024-03-10T17:54'), ('2024-03-11', 'Yogyarakrta', '2024-03-11T05:43', '2024-03-11T17:54'), ('2024-03-12', 'Yogyarakrta', '2024-03-12T05:43', '2024-03-12T17:53'), ('2024-03-13', 'Yogyarakrta', '2024-03-13T05:43', '2024-03-13T17:53'), ('2024-03-14', 'Yogyarakrta', '2024-03-14T05:43', '2024-03-14T17:52'), ('2024-03-15', 'Yogyarakrta', '2024-03-15T05:43', '2024-03-15T17:52'), ('2024-03-16', 'Yogyarakrta', '2024-03-16T05:43', '2024-03-16T17:51'), ('2024-03-17', 'Yogyarakrta', '2024-03-17T05:43', '2024-03-17T17:51'), ('2024-03-18', 'Yogyarakrta', '2024-03-18T05:43', '2024-03-18T17:50'), ('2024-03-19', 'Yogyarakrta', '2024-03-19T05:43', '2024-03-19T17:50'), ('2024-03-20', 'Yogyarakrta', '2024-03-20T05:43', '2024-03-20T17:49'), ('2024-03-21', 'Yogyarakrta', '2024-03-21T05:42', '2024-03-21T17:49'), ('2024-03-22', 'Yogyarakrta', '2024-03-22T05:42', '2024-03-22T17:48'), ('2024-03-23', 'Yogyarakrta', '2024-03-23T05:42', '2024-03-23T17:48'), ('2024-03-24', 'Yogyarakrta', '2024-03-24T05:42', '2024-03-24T17:47'), ('2024-03-25', 'Yogyarakrta', '2024-03-25T05:42', '2024-03-25T17:47'), ('2024-03-26', 'Yogyarakrta', '2024-03-26T05:42', '2024-03-26T17:46'), ('2024-03-27', 'Yogyarakrta', '2024-03-27T05:42', '2024-03-27T17:46'), ('2024-03-28', 'Yogyarakrta', '2024-03-28T05:42', '2024-03-28T17:45'), ('2024-03-29', 'Yogyarakrta', '2024-03-29T05:42', '2024-03-29T17:45'), ('2024-03-30', 'Yogyarakrta', '2024-03-30T05:42', '2024-03-30T17:44'), ('2024-03-31', 'Yogyarakrta', '2024-03-31T05:42', '2024-03-31T17:44'), ('2024-04-01', 'Yogyarakrta', '2024-04-01T05:42', '2024-04-01T17:43'), ('2024-04-02', 'Yogyarakrta', '2024-04-02T05:41', '2024-04-02T17:43'), ('2024-04-03', 'Yogyarakrta', '2024-04-03T05:41', '2024-04-03T17:42'), ('2024-04-04', 'Yogyarakrta', '2024-04-04T05:41', '2024-04-04T17:42'), ('2024-04-05', 'Yogyarakrta', '2024-04-05T05:41', '2024-04-05T17:41'), ('2024-04-06', 'Yogyarakrta', '2024-04-06T05:41', '2024-04-06T17:41'), ('2024-04-07', 'Yogyarakrta', '2024-04-07T05:41', '2024-04-07T17:40'), ('2024-04-08', 'Yogyarakrta', '2024-04-08T05:41', '2024-04-08T17:40'), ('2024-04-09', 'Yogyarakrta', '2024-04-09T05:41', '2024-04-09T17:39'), ('2024-04-10', 'Yogyarakrta', '2024-04-10T05:41', '2024-04-10T17:39'), ('2024-04-11', 'Yogyarakrta', '2024-04-11T05:41', '2024-04-11T17:38'), ('2024-04-12', 'Yogyarakrta', '2024-04-12T05:41', '2024-04-12T17:38'), ('2024-04-13', 'Yogyarakrta', '2024-04-13T05:41', '2024-04-13T17:37'), ('2024-04-14', 'Yogyarakrta', '2024-04-14T05:41', '2024-04-14T17:37'), ('2024-04-15', 'Yogyarakrta', '2024-04-15T05:41', '2024-04-15T17:36'), ('2024-04-16', 'Yogyarakrta', '2024-04-16T05:41', '2024-04-16T17:36'), ('2024-04-17', 'Yogyarakrta', '2024-04-17T05:41', '2024-04-17T17:35'), ('2024-04-18', 'Yogyarakrta', '2024-04-18T05:41', '2024-04-18T17:35'), ('2024-04-19', 'Yogyarakrta', '2024-04-19T05:40', '2024-04-19T17:35'), ('2024-04-20', 'Yogyarakrta', '2024-04-20T05:40', '2024-04-20T17:34'), ('2024-04-21', 'Yogyarakrta', '2024-04-21T05:40', '2024-04-21T17:34'), ('2024-04-22', 'Yogyarakrta', '2024-04-22T05:40', '2024-04-22T17:33'), ('2024-04-23', 'Yogyarakrta', '2024-04-23T05:40', '2024-04-23T17:33'), ('2024-04-24', 'Yogyarakrta', '2024-04-24T05:41', '2024-04-24T17:33'), ('2024-04-25', 'Yogyarakrta', '2024-04-25T05:41', '2024-04-25T17:32'), ('2024-04-26', 'Yogyarakrta', '2024-04-26T05:41', '2024-04-26T17:32'), ('2024-04-27', 'Yogyarakrta', '2024-04-27T05:41', '2024-04-27T17:32'), ('2024-04-28', 'Yogyarakrta', '2024-04-28T05:41', '2024-04-28T17:31'), ('2024-04-29', 'Yogyarakrta', '2024-04-29T05:41', '2024-04-29T17:31'), ('2024-04-30', 'Yogyarakrta', '2024-04-30T05:41', '2024-04-30T17:31'), ('2024-05-01', 'Yogyarakrta', '2024-05-01T05:41', '2024-05-01T17:30'), ('2024-05-02', 'Yogyarakrta', '2024-05-02T05:41', '2024-05-02T17:30'), ('2024-05-03', 'Yogyarakrta', '2024-05-03T05:41', '2024-05-03T17:30'), ('2024-05-04', 'Yogyarakrta', '2024-05-04T05:41', '2024-05-04T17:30'), ('2024-05-05', 'Yogyarakrta', '2024-05-05T05:41', '2024-05-05T17:29'), ('2024-05-06', 'Yogyarakrta', '2024-05-06T05:41', '2024-05-06T17:29'), ('2024-05-07', 'Yogyarakrta', '2024-05-07T05:41', '2024-05-07T17:29'), ('2024-05-08', 'Yogyarakrta', '2024-05-08T05:41', '2024-05-08T17:29'), ('2024-05-09', 'Yogyarakrta', '2024-05-09T05:41', '2024-05-09T17:28'), ('2024-05-10', 'Yogyarakrta', '2024-05-10T05:42', '2024-05-10T17:28'), ('2024-05-11', 'Yogyarakrta', '2024-05-11T05:42', '2024-05-11T17:28'), ('2024-05-12', 'Yogyarakrta', '2024-05-12T05:42', '2024-05-12T17:28'), ('2024-05-13', 'Yogyarakrta', '2024-05-13T05:42', '2024-05-13T17:28'), ('2024-05-14', 'Yogyarakrta', '2024-05-14T05:42', '2024-05-14T17:28'), ('2024-05-15', 'Yogyarakrta', '2024-05-15T05:42', '2024-05-15T17:28'), ('2024-05-16', 'Yogyarakrta', '2024-05-16T05:42', '2024-05-16T17:27'), ('2024-05-17', 'Yogyarakrta', '2024-05-17T05:43', '2024-05-17T17:27'), ('2024-05-18', 'Yogyarakrta', '2024-05-18T05:43', '2024-05-18T17:27'), ('2024-05-19', 'Yogyarakrta', '2024-05-19T05:43', '2024-05-19T17:27'), ('2024-05-20', 'Yogyarakrta', '2024-05-20T05:43', '2024-05-20T17:27'), ('2024-05-21', 'Yogyarakrta', '2024-05-21T05:43', '2024-05-21T17:27'), ('2024-05-22', 'Yogyarakrta', '2024-05-22T05:43', '2024-05-22T17:27'), ('2024-05-23', 'Yogyarakrta', '2024-05-23T05:44', '2024-05-23T17:27'), ('2024-05-24', 'Yogyarakrta', '2024-05-24T05:44', '2024-05-24T17:27'), ('2024-05-25', 'Yogyarakrta', '2024-05-25T05:44', '2024-05-25T17:27'), ('2024-05-26', 'Yogyarakrta', '2024-05-26T05:44', '2024-05-26T17:27'), ('2024-05-27', 'Yogyarakrta', '2024-05-27T05:45', '2024-05-27T17:27'), ('2024-05-28', 'Yogyarakrta', '2024-05-28T05:45', '2024-05-28T17:27'), ('2024-05-29', 'Yogyarakrta', '2024-05-29T05:45', '2024-05-29T17:27'), ('2024-05-30', 'Yogyarakrta', '2024-05-30T05:45', '2024-05-30T17:27'), ('2024-05-31', 'Yogyarakrta', '2024-05-31T05:45', '2024-05-31T17:27'), ('2024-06-01', 'Yogyarakrta', '2024-06-01T05:46', '2024-06-01T17:27'), ('2024-06-02', 'Yogyarakrta', '2024-06-02T05:46', '2024-06-02T17:27'), ('2024-06-03', 'Yogyarakrta', '2024-06-03T05:46', '2024-06-03T17:27'), ('2024-06-04', 'Yogyarakrta', '2024-06-04T05:46', '2024-06-04T17:27'), ('2024-06-05', 'Yogyarakrta', '2024-06-05T05:47', '2024-06-05T17:27'), ('2024-06-06', 'Yogyarakrta', '2024-06-06T05:47', '2024-06-06T17:28'), ('2024-06-07', 'Yogyarakrta', '2024-06-07T05:47', '2024-06-07T17:28'), ('2024-06-08', 'Yogyarakrta', '2024-06-08T05:47', '2024-06-08T17:28'), ('2024-06-09', 'Yogyarakrta', '2024-06-09T05:48', '2024-06-09T17:28'), ('2024-06-10', 'Yogyarakrta', '2024-06-10T05:48', '2024-06-10T17:28'), ('2024-06-11', 'Yogyarakrta', '2024-06-11T05:48', '2024-06-11T17:28'), ('2024-06-12', 'Yogyarakrta', '2024-06-12T05:48', '2024-06-12T17:29'), ('2024-06-13', 'Yogyarakrta', '2024-06-13T05:49', '2024-06-13T17:29'), ('2024-06-14', 'Yogyarakrta', '2024-06-14T05:49', '2024-06-14T17:29'), ('2024-06-15', 'Yogyarakrta', '2024-06-15T05:49', '2024-06-15T17:29'), ('2024-06-16', 'Yogyarakrta', '2024-06-16T05:49', '2024-06-16T17:29'), ('2024-06-17', 'Yogyarakrta', '2024-06-17T05:50', '2024-06-17T17:29'), ('2024-06-18', 'Yogyarakrta', '2024-06-18T05:50', '2024-06-18T17:30'), ('2024-06-19', 'Yogyarakrta', '2024-06-19T05:50', '2024-06-19T17:30'), ('2024-06-20', 'Yogyarakrta', '2024-06-20T05:50', '2024-06-20T17:30'), ('2024-06-21', 'Yogyarakrta', '2024-06-21T05:50', '2024-06-21T17:30'), ('2024-06-22', 'Yogyarakrta', '2024-06-22T05:51', '2024-06-22T17:30'), ('2024-06-23', 'Yogyarakrta', '2024-06-23T05:51', '2024-06-23T17:31'), ('2024-06-24', 'Yogyarakrta', '2024-06-24T05:51', '2024-06-24T17:31'), ('2024-06-25', 'Yogyarakrta', '2024-06-25T05:51', '2024-06-25T17:31'), ('2024-06-26', 'Yogyarakrta', '2024-06-26T05:51', '2024-06-26T17:31'), ('2024-06-27', 'Yogyarakrta', '2024-06-27T05:52', '2024-06-27T17:32'), ('2024-06-28', 'Yogyarakrta', '2024-06-28T05:52', '2024-06-28T17:32'), ('2024-06-29', 'Yogyarakrta', '2024-06-29T05:52', '2024-06-29T17:32'), ('2024-06-30', 'Yogyarakrta', '2024-06-30T05:52', '2024-06-30T17:32'), ('2024-07-01', 'Yogyarakrta', '2024-07-01T05:52', '2024-07-01T17:33'), ('2024-07-02', 'Yogyarakrta', '2024-07-02T05:52', '2024-07-02T17:33'), ('2024-07-03', 'Yogyarakrta', '2024-07-03T05:53', '2024-07-03T17:33'), ('2024-07-04', 'Yogyarakrta', '2024-07-04T05:53', '2024-07-04T17:33'), ('2024-07-05', 'Yogyarakrta', '2024-07-05T05:53', '2024-07-05T17:34'), ('2024-07-06', 'Yogyarakrta', '2024-07-06T05:53', '2024-07-06T17:34'), ('2024-07-07', 'Yogyarakrta', '2024-07-07T05:53', '2024-07-07T17:34'), ('2024-07-08', 'Yogyarakrta', '2024-07-08T05:53', '2024-07-08T17:34'), ('2024-07-09', 'Yogyarakrta', '2024-07-09T05:53', '2024-07-09T17:34'), ('2024-07-10', 'Yogyarakrta', '2024-07-10T05:53', '2024-07-10T17:35'), ('2024-07-11', 'Yogyarakrta', '2024-07-11T05:53', '2024-07-11T17:35'), ('2024-07-12', 'Yogyarakrta', '2024-07-12T05:53', '2024-07-12T17:35'), ('2024-07-13', 'Yogyarakrta', '2024-07-13T05:53', '2024-07-13T17:35'), ('2024-07-14', 'Yogyarakrta', '2024-07-14T05:53', '2024-07-14T17:35'), ('2024-07-15', 'Yogyarakrta', '2024-07-15T05:53', '2024-07-15T17:36'), ('2024-07-16', 'Yogyarakrta', '2024-07-16T05:53', '2024-07-16T17:36'), ('2024-07-17', 'Yogyarakrta', '2024-07-17T05:53', '2024-07-17T17:36'), ('2024-07-18', 'Yogyarakrta', '2024-07-18T05:53', '2024-07-18T17:36'), ('2024-07-19', 'Yogyarakrta', '2024-07-19T05:53', '2024-07-19T17:36'), ('2024-07-20', 'Yogyarakrta', '2024-07-20T05:53', '2024-07-20T17:37'), ('2024-07-21', 'Yogyarakrta', '2024-07-21T05:53', '2024-07-21T17:37'), ('2024-07-22', 'Yogyarakrta', '2024-07-22T05:53', '2024-07-22T17:37'), ('2024-07-23', 'Yogyarakrta', '2024-07-23T05:53', '2024-07-23T17:37'), ('2024-07-24', 'Yogyarakrta', '2024-07-24T05:53', '2024-07-24T17:37'), ('2024-07-25', 'Yogyarakrta', '2024-07-25T05:53', '2024-07-25T17:37'), ('2024-07-26', 'Yogyarakrta', '2024-07-26T05:53', '2024-07-26T17:37'), ('2024-07-27', 'Yogyarakrta', '2024-07-27T05:52', '2024-07-27T17:38'), ('2024-07-28', 'Yogyarakrta', '2024-07-28T05:52', '2024-07-28T17:38'), ('2024-07-29', 'Yogyarakrta', '2024-07-29T05:52', '2024-07-29T17:38'), ('2024-07-30', 'Yogyarakrta', '2024-07-30T05:52', '2024-07-30T17:38'), ('2024-07-31', 'Yogyarakrta', '2024-07-31T05:52', '2024-07-31T17:38'), ('2024-08-01', 'Yogyarakrta', '2024-08-01T05:52', '2024-08-01T17:38'), ('2024-08-02', 'Yogyarakrta', '2024-08-02T05:51', '2024-08-02T17:38'), ('2024-08-03', 'Yogyarakrta', '2024-08-03T05:51', '2024-08-03T17:38'), ('2024-08-04', 'Yogyarakrta', '2024-08-04T05:51', '2024-08-04T17:38'), ('2024-08-05', 'Yogyarakrta', '2024-08-05T05:51', '2024-08-05T17:38'), ('2024-08-06', 'Yogyarakrta', '2024-08-06T05:50', '2024-08-06T17:38'), ('2024-08-07', 'Yogyarakrta', '2024-08-07T05:50', '2024-08-07T17:38'), ('2024-08-08', 'Yogyarakrta', '2024-08-08T05:50', '2024-08-08T17:39'), ('2024-08-09', 'Yogyarakrta', '2024-08-09T05:49', '2024-08-09T17:39'), ('2024-08-10', 'Yogyarakrta', '2024-08-10T05:49', '2024-08-10T17:39'), ('2024-08-11', 'Yogyarakrta', '2024-08-11T05:49', '2024-08-11T17:39'), ('2024-08-12', 'Yogyarakrta', '2024-08-12T05:48', '2024-08-12T17:39'), ('2024-08-13', 'Yogyarakrta', '2024-08-13T05:48', '2024-08-13T17:39'), ('2024-08-14', 'Yogyarakrta', '2024-08-14T05:48', '2024-08-14T17:39'), ('2024-08-15', 'Yogyarakrta', '2024-08-15T05:47', '2024-08-15T17:39'), ('2024-08-16', 'Yogyarakrta', '2024-08-16T05:47', '2024-08-16T17:39')]\n"
     ]
    }
   ],
   "source": [
    "with engine.connect() as connection:\n",
    "    results = connection.execute(stmt).fetchall()\n",
    "    print(results)"
   ]
  },
  {
   "cell_type": "code",
   "execution_count": 11,
   "metadata": {},
   "outputs": [],
   "source": [
    "from llama_index.core.indices.struct_store.sql_query import (\n",
    "    SQLTableRetrieverQueryEngine,\n",
    ")\n",
    "from llama_index.core.objects import (\n",
    "    SQLTableNodeMapping,\n",
    "    ObjectIndex,\n",
    "    SQLTableSchema,\n",
    ")\n",
    "from llama_index.core.query_engine import NLSQLTableQueryEngine\n",
    "from llama_index.core import VectorStoreIndex\n",
    "\n",
    "query_engine = NLSQLTableQueryEngine(\n",
    "    sql_database=sql_database,\n",
    "    tables=[\"weather_indonesia\"],\n",
    ")"
   ]
  },
  {
   "cell_type": "code",
   "execution_count": 12,
   "metadata": {},
   "outputs": [
    {
     "data": {
      "text/plain": [
       "Response(response=' Based on the given query and SQL response, it seems there was an error in executing the SQL statement provided. I cannot directly synthesize a response from the query results because no results were returned due to the error. However, I can tell you that the SQL statement \"SELECT DISTINCT city FROM weather\\\\_indonesia;\" is intended to retrieve unique cities from the `weather_indonesia` table if it exists and has a column named \\'city\\'. If you have access to a working database with this table, please ensure its syntax and structure are correct before running this query.', source_nodes=[NodeWithScore(node=TextNode(id_='7e6d0657-0df0-4b69-8eb4-39d251d0635e', embedding=None, metadata={}, excluded_embed_metadata_keys=[], excluded_llm_metadata_keys=[], relationships={}, text=\"Error: Statement 'SELECT DISTINCT city FROM weather\\\\\\\\_indonesia;' is invalid SQL.\", mimetype='text/plain', start_char_idx=None, end_char_idx=None, text_template='{metadata_str}\\n\\n{content}', metadata_template='{key}: {value}', metadata_seperator='\\n'), score=None)], metadata={'7e6d0657-0df0-4b69-8eb4-39d251d0635e': {}, 'sql_query': 'SELECT DISTINCT city FROM weather\\\\_indonesia;'})"
      ]
     },
     "execution_count": 12,
     "metadata": {},
     "output_type": "execute_result"
    }
   ],
   "source": [
    "query_str = \"Which city in the table?\"\n",
    "response = query_engine.query(query_str)\n",
    "response"
   ]
  },
  {
   "cell_type": "code",
   "execution_count": 45,
   "metadata": {},
   "outputs": [
    {
     "data": {
      "text/plain": [
       "Response(response=' Based on the query results, the top 5 cities with the highest temperature_2m_max values are all \"Yogyarakrta\" with the following temperatures: [33.8, 33.5, 33.4, 33.2, 33.2].', source_nodes=[NodeWithScore(node=TextNode(id_='589b2b7b-a1a9-4043-a3c8-d2c49f5d1f52', embedding=None, metadata={'sql_query': 'SELECT city, temperature_2m_max FROM weather_indonesia ORDER BY temperature_2m_max DESC LIMIT 5;', 'result': [('Yogyarakrta', 33.8), ('Yogyarakrta', 33.5), ('Yogyarakrta', 33.4), ('Yogyarakrta', 33.2), ('Yogyarakrta', 33.2)], 'col_keys': ['city', 'temperature_2m_max']}, excluded_embed_metadata_keys=['sql_query', 'result', 'col_keys'], excluded_llm_metadata_keys=['sql_query', 'result', 'col_keys'], relationships={}, text=\"[('Yogyarakrta', 33.8), ('Yogyarakrta', 33.5), ('Yogyarakrta', 33.4), ('Yogyarakrta', 33.2), ('Yogyarakrta', 33.2)]\", mimetype='text/plain', start_char_idx=None, end_char_idx=None, text_template='{metadata_str}\\n\\n{content}', metadata_template='{key}: {value}', metadata_seperator='\\n'), score=None)], metadata={'589b2b7b-a1a9-4043-a3c8-d2c49f5d1f52': {'sql_query': 'SELECT city, temperature_2m_max FROM weather_indonesia ORDER BY temperature_2m_max DESC LIMIT 5;', 'result': [('Yogyarakrta', 33.8), ('Yogyarakrta', 33.5), ('Yogyarakrta', 33.4), ('Yogyarakrta', 33.2), ('Yogyarakrta', 33.2)], 'col_keys': ['city', 'temperature_2m_max']}, 'sql_query': 'SELECT city, temperature_2m_max FROM weather_indonesia ORDER BY temperature_2m_max DESC LIMIT 5;', 'result': [('Yogyarakrta', 33.8), ('Yogyarakrta', 33.5), ('Yogyarakrta', 33.4), ('Yogyarakrta', 33.2), ('Yogyarakrta', 33.2)], 'col_keys': ['city', 'temperature_2m_max']})"
      ]
     },
     "execution_count": 45,
     "metadata": {},
     "output_type": "execute_result"
    }
   ],
   "source": [
    "query_str = \"Return the top 5 temperature_2m_max with the highest value?\"\n",
    "response = query_engine.query(query_str)\n",
    "response"
   ]
  },
  {
   "cell_type": "code",
   "execution_count": 13,
   "metadata": {},
   "outputs": [],
   "source": [
    "# Query Time Retrieval for tables for text-to-sql\n",
    "from llama_index.core.indices.struct_store.sql_query import (\n",
    "    SQLTableRetrieverQueryEngine,\n",
    ")\n",
    "from llama_index.core.objects import (\n",
    "    SQLTableNodeMapping,\n",
    "    ObjectIndex,\n",
    "    SQLTableSchema,\n",
    ")\n",
    "from llama_index.core import VectorStoreIndex\n"
   ]
  },
  {
   "cell_type": "code",
   "execution_count": 14,
   "metadata": {},
   "outputs": [],
   "source": [
    "weather_stats_text = (\n",
    "    \"\"\"\n",
    "    You are an AI trained to analyze weather data for Indonesia. The data is stored in a table called \"weather_indonesia\" with the following columns and descriptions:\n",
    "\n",
    "    time: The date of weather data (format: text, ISO8601).\n",
    "    weather_code: The most severe weather condition on a given day (WMO code, float).\n",
    "    temperature_2m_max: Maximum daily air temperature at 2 meters above ground (°C, float).\n",
    "    temperature_2m_min: Minimum daily air temperature at 2 meters above ground (°C, float).\n",
    "    sunrise: Sun rise times (ISO8601 text).\n",
    "    sunset: Sun set times (ISO8601 text).\n",
    "    daylight_duration: Number of seconds of daylight per day (float).\n",
    "    sunshine_duration: The number of seconds of sunshine per day (float). Sunshine duration is always less than daylight duration.\n",
    "    uv_index_max: Maximum UV index during the day (float).\n",
    "    uv_index_clear_sky_max: Maximum UV index under clear sky conditions (float).\n",
    "    wind_speed_10m_max: Maximum wind speed at 10 meters above ground (float, km/h).\n",
    "    wind_direction_10m_dominant: Dominant wind direction at 10 meters above ground (float, degrees).\n",
    "    city: Name of the city (text).\n",
    "\n",
    "    Important Note: If you are unsure of the correct answer or the generated SQL query is incorrect, respond with: \"I can't answer that.\"\n",
    "    \"\"\"\n",
    ")\n",
    "\n",
    "\n",
    "sql_database_ = SQLDatabase(engine)\n",
    "table_node_mapping = SQLTableNodeMapping(sql_database_)\n",
    "table_schema_objs = [\n",
    "    SQLTableSchema(table_name=\"weather_indonesia\", context_str=weather_stats_text)  # modify the tuple to a string\n",
    "]  # add a SQLTableSchema for each table\n",
    "\n",
    "obj_index = ObjectIndex.from_objects(\n",
    "    table_schema_objs,\n",
    "    table_node_mapping,\n",
    "    VectorStoreIndex,\n",
    ")\n",
    "query_engine = SQLTableRetrieverQueryEngine(\n",
    "    sql_database_, obj_index.as_retriever(similarity_top_k=1)\n",
    ")"
   ]
  },
  {
   "cell_type": "code",
   "execution_count": 18,
   "metadata": {},
   "outputs": [
    {
     "data": {
      "text/plain": [
       "' The query result would depend on the availability of a table containing city elevation data. Based on the given query and the provided table description, it appears that such information is not available in the \\'weather_indonesia\\' table. Therefore, I cannot provide an answer to the question \"What is the highest city in the data?\" with certainty.'"
      ]
     },
     "execution_count": 18,
     "metadata": {},
     "output_type": "execute_result"
    }
   ],
   "source": [
    "response = query_engine.query(\"What is the highest city in the data?\")\n",
    "response.response.split()\n",
    "# display(Markdown(f\"{response}\"))"
   ]
  },
  {
   "cell_type": "code",
   "execution_count": null,
   "metadata": {},
   "outputs": [],
   "source": []
  },
  {
   "cell_type": "code",
   "execution_count": null,
   "metadata": {},
   "outputs": [],
   "source": []
  },
  {
   "cell_type": "code",
   "execution_count": null,
   "metadata": {},
   "outputs": [],
   "source": []
  },
  {
   "cell_type": "code",
   "execution_count": null,
   "metadata": {},
   "outputs": [],
   "source": []
  },
  {
   "cell_type": "code",
   "execution_count": null,
   "metadata": {},
   "outputs": [],
   "source": []
  },
  {
   "cell_type": "code",
   "execution_count": null,
   "metadata": {},
   "outputs": [],
   "source": []
  }
 ],
 "metadata": {
  "kernelspec": {
   "display_name": "prompt-ai",
   "language": "python",
   "name": "python3"
  },
  "language_info": {
   "codemirror_mode": {
    "name": "ipython",
    "version": 3
   },
   "file_extension": ".py",
   "mimetype": "text/x-python",
   "name": "python",
   "nbconvert_exporter": "python",
   "pygments_lexer": "ipython3",
   "version": "3.12.4"
  }
 },
 "nbformat": 4,
 "nbformat_minor": 2
}
